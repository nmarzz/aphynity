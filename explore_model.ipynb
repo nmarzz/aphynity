{
 "cells": [
  {
   "cell_type": "markdown",
   "source": [
    "# Explore trained models using Aphynity Framework\n"
   ],
   "metadata": {}
  },
  {
   "cell_type": "code",
   "execution_count": 2,
   "source": [
    "import torch\n",
    "import torchdiffeq\n",
    "import matplotlib.pyplot as plt\n",
    "\n",
    "from utils import data_utils\n",
    "from models import PendulumModel"
   ],
   "outputs": [],
   "metadata": {}
  },
  {
   "cell_type": "code",
   "execution_count": 26,
   "source": [
    "# Load Model\n",
    "model_path ='model.pt'\n",
    "model = torch.load(open(model_path,'rb'))\n"
   ],
   "outputs": [],
   "metadata": {}
  },
  {
   "cell_type": "code",
   "execution_count": 27,
   "source": [
    "model.state_dict()\n"
   ],
   "outputs": [
    {
     "output_type": "execute_result",
     "data": {
      "text/plain": [
       "OrderedDict([('omega', tensor([0.2750])),\n",
       "             ('neural_net.neural_net.weight',\n",
       "              tensor([[ 0.0545, -0.5359],\n",
       "                      [-0.3801, -0.0104]]))])"
      ]
     },
     "metadata": {},
     "execution_count": 27
    }
   ],
   "metadata": {}
  },
  {
   "cell_type": "code",
   "execution_count": 28,
   "source": [
    "t0 = 0.\n",
    "te = 20.\n",
    "T0 = 12\n",
    "t = torch.linspace(t0, te, 40)\n",
    "\n",
    "train,val,test = data_utils.get_pendulum_datasets(n=40,T0 = T0,alpha = 0.2)\n",
    "\n",
    "init_state = train[:,0,:]\n",
    "\n",
    "\n",
    "torch.sum(torch.linalg.norm(model.neural_net(t,train),dim=2)**2)"
   ],
   "outputs": [
    {
     "output_type": "execute_result",
     "data": {
      "text/plain": [
       "tensor(81.2668, grad_fn=<SumBackward0>)"
      ]
     },
     "metadata": {},
     "execution_count": 28
    }
   ],
   "metadata": {}
  },
  {
   "cell_type": "code",
   "execution_count": 36,
   "source": [
    "torch.linalg.norm(model.neural_net(t,train),dim=2)**2 \n"
   ],
   "outputs": [
    {
     "output_type": "execute_result",
     "data": {
      "text/plain": [
       "tensor([[0.2661, 0.1846, 0.1456,  ..., 0.0092, 0.0072, 0.0060],\n",
       "        [0.2383, 0.1778, 0.1423,  ..., 0.0088, 0.0070, 0.0045],\n",
       "        [0.0847, 0.0939, 0.0912,  ..., 0.0020, 0.0026, 0.0029],\n",
       "        ...,\n",
       "        [0.2428, 0.2178, 0.2013,  ..., 0.0121, 0.0090, 0.0058],\n",
       "        [0.2104, 0.1624, 0.1133,  ..., 0.0047, 0.0046, 0.0036],\n",
       "        [0.0834, 0.0622, 0.0493,  ..., 0.0029, 0.0012, 0.0017]],\n",
       "       grad_fn=<PowBackward0>)"
      ]
     },
     "metadata": {},
     "execution_count": 36
    }
   ],
   "metadata": {}
  },
  {
   "cell_type": "code",
   "execution_count": 37,
   "source": [
    "(torch.linalg.norm(model.neural_net(t,train),dim=2)**2)"
   ],
   "outputs": [
    {
     "output_type": "execute_result",
     "data": {
      "text/plain": [
       "tensor([[0.5159, 0.4296, 0.3816,  ..., 0.0960, 0.0848, 0.0775],\n",
       "        [0.4882, 0.4216, 0.3773,  ..., 0.0937, 0.0837, 0.0668],\n",
       "        [0.2910, 0.3064, 0.3019,  ..., 0.0450, 0.0509, 0.0541],\n",
       "        ...,\n",
       "        [0.4928, 0.4667, 0.4487,  ..., 0.1099, 0.0947, 0.0763],\n",
       "        [0.4586, 0.4030, 0.3366,  ..., 0.0684, 0.0681, 0.0602],\n",
       "        [0.2888, 0.2494, 0.2221,  ..., 0.0538, 0.0346, 0.0415]],\n",
       "       grad_fn=<CopyBackwards>)"
      ]
     },
     "metadata": {},
     "execution_count": 37
    }
   ],
   "metadata": {}
  },
  {
   "cell_type": "code",
   "execution_count": null,
   "source": [],
   "outputs": [],
   "metadata": {}
  }
 ],
 "metadata": {
  "orig_nbformat": 4,
  "language_info": {
   "name": "python",
   "version": "3.6.13",
   "mimetype": "text/x-python",
   "codemirror_mode": {
    "name": "ipython",
    "version": 3
   },
   "pygments_lexer": "ipython3",
   "nbconvert_exporter": "python",
   "file_extension": ".py"
  },
  "kernelspec": {
   "name": "python3",
   "display_name": "Python 3.6.13 64-bit ('aph': conda)"
  },
  "interpreter": {
   "hash": "7b1da09e84a3b6b0b8f0a937c1fc8ae9785ae00d1b392cd178c6aa57bdf7b179"
  }
 },
 "nbformat": 4,
 "nbformat_minor": 2
}
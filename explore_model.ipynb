{
 "cells": [
  {
   "cell_type": "markdown",
   "source": [
    "# Explore trained models using Aphynity Framework\n"
   ],
   "metadata": {}
  },
  {
   "cell_type": "code",
   "execution_count": 1,
   "source": [
    "import torch\n",
    "import torchdiffeq\n",
    "import matplotlib.pyplot as plt\n",
    "\n",
    "from utils import data_utils\n",
    "from models import PendulumModel"
   ],
   "outputs": [],
   "metadata": {}
  },
  {
   "cell_type": "code",
   "execution_count": 8,
   "source": [
    "# Load Model\n",
    "model_path ='model.pt'\n",
    "model = torch.load(open(model_path,'rb'))\n",
    "model.state_dict()"
   ],
   "outputs": [
    {
     "output_type": "execute_result",
     "data": {
      "text/plain": [
       "OrderedDict([('omega', tensor(0.3643)),\n",
       "             ('neural_net.neural_net.weight',\n",
       "              tensor([[-0.4477, -0.0199],\n",
       "                      [-0.1729,  0.1205]]))])"
      ]
     },
     "metadata": {},
     "execution_count": 8
    }
   ],
   "metadata": {}
  },
  {
   "cell_type": "code",
   "execution_count": 5,
   "source": [
    "\n"
   ],
   "outputs": [
    {
     "output_type": "execute_result",
     "data": {
      "text/plain": [
       "OrderedDict([('omega', tensor(0.3921)),\n",
       "             ('neural_net.neural_net.weight',\n",
       "              tensor([[-0.5527,  0.4000],\n",
       "                      [-0.3697,  0.0586]]))])"
      ]
     },
     "metadata": {},
     "execution_count": 5
    }
   ],
   "metadata": {}
  },
  {
   "cell_type": "code",
   "execution_count": 10,
   "source": [
    "t0 = 0.\n",
    "te = 20.\n",
    "T0 = 12\n",
    "t = torch.linspace(t0, te, 40)\n",
    "\n",
    "batch_size = 800\n",
    "train,val,test = data_utils.get_pendulum_datasets(n=batch_size ,T0 = T0,alpha = 0.2)\n",
    "\n",
    "init_state = train[:,0,:]\n",
    "\n",
    "\n",
    "torch.sum(torch.linalg.norm(model.neural_net(t,train),dim=2)**2) / batch_size"
   ],
   "outputs": [
    {
     "output_type": "execute_result",
     "data": {
      "text/plain": [
       "tensor(2.2258, grad_fn=<DivBackward0>)"
      ]
     },
     "metadata": {},
     "execution_count": 10
    }
   ],
   "metadata": {}
  },
  {
   "cell_type": "code",
   "execution_count": 11,
   "source": [
    "model.neural_net(t,train).shape\n"
   ],
   "outputs": [
    {
     "output_type": "execute_result",
     "data": {
      "text/plain": [
       "torch.Size([800, 40, 2])"
      ]
     },
     "metadata": {},
     "execution_count": 11
    }
   ],
   "metadata": {}
  },
  {
   "cell_type": "code",
   "execution_count": 12,
   "source": [
    "(torch.linalg.norm(model.neural_net(t,train),dim=2)**2).shape"
   ],
   "outputs": [
    {
     "output_type": "execute_result",
     "data": {
      "text/plain": [
       "torch.Size([800, 40])"
      ]
     },
     "metadata": {},
     "execution_count": 12
    }
   ],
   "metadata": {}
  },
  {
   "cell_type": "code",
   "execution_count": 13,
   "source": [
    "train.shape"
   ],
   "outputs": [
    {
     "output_type": "execute_result",
     "data": {
      "text/plain": [
       "torch.Size([800, 40, 2])"
      ]
     },
     "metadata": {},
     "execution_count": 13
    }
   ],
   "metadata": {}
  },
  {
   "cell_type": "code",
   "execution_count": null,
   "source": [],
   "outputs": [],
   "metadata": {}
  }
 ],
 "metadata": {
  "orig_nbformat": 4,
  "language_info": {
   "name": "python",
   "version": "3.6.13",
   "mimetype": "text/x-python",
   "codemirror_mode": {
    "name": "ipython",
    "version": 3
   },
   "pygments_lexer": "ipython3",
   "nbconvert_exporter": "python",
   "file_extension": ".py"
  },
  "kernelspec": {
   "name": "python3",
   "display_name": "Python 3.6.13 64-bit ('aph': conda)"
  },
  "interpreter": {
   "hash": "7b1da09e84a3b6b0b8f0a937c1fc8ae9785ae00d1b392cd178c6aa57bdf7b179"
  }
 },
 "nbformat": 4,
 "nbformat_minor": 2
}
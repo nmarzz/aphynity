{
 "cells": [
  {
   "cell_type": "markdown",
   "source": [
    "# Explore trained models using Aphynity Framework\n"
   ],
   "metadata": {}
  },
  {
   "cell_type": "code",
   "execution_count": 1,
   "source": [
    "import torch\n",
    "import torchdiffeq\n",
    "import matplotlib.pyplot as plt\n",
    "\n",
    "from utils import data_utils\n",
    "from models import PendulumModel"
   ],
   "outputs": [],
   "metadata": {}
  },
  {
   "cell_type": "code",
   "execution_count": 6,
   "source": [
    "# Load Model\n",
    "model_path ='model.pt'\n",
    "model = torch.load(open(model_path,'rb'))\n",
    "model.state_dict()"
   ],
   "outputs": [
    {
     "output_type": "execute_result",
     "data": {
      "text/plain": [
       "OrderedDict([('omega', tensor(0.5949)),\n",
       "             ('neural_net.neural_net.weight',\n",
       "              tensor([[ 0.2976,  0.1669],\n",
       "                      [-0.0665, -0.6182]]))])"
      ]
     },
     "metadata": {},
     "execution_count": 6
    }
   ],
   "metadata": {}
  },
  {
   "cell_type": "code",
   "execution_count": 5,
   "source": [
    "\n"
   ],
   "outputs": [
    {
     "output_type": "execute_result",
     "data": {
      "text/plain": [
       "OrderedDict([('omega', tensor(0.3921)),\n",
       "             ('neural_net.neural_net.weight',\n",
       "              tensor([[-0.5527,  0.4000],\n",
       "                      [-0.3697,  0.0586]]))])"
      ]
     },
     "metadata": {},
     "execution_count": 5
    }
   ],
   "metadata": {}
  },
  {
   "cell_type": "code",
   "execution_count": 18,
   "source": [
    "t0 = 0.\n",
    "te = 20.\n",
    "T0 = 12\n",
    "t = torch.linspace(t0, te, 40)\n",
    "\n",
    "batch_size = 800\n",
    "train,val,test = data_utils.get_pendulum_datasets(n=batch_size ,T0 = T0,alpha = 0.2)\n",
    "\n",
    "init_state = train[:,0,:]\n",
    "\n",
    "\n",
    "torch.sum(torch.linalg.norm(model.neural_net(t,train),dim=2)**2) / batch_size"
   ],
   "outputs": [
    {
     "output_type": "execute_result",
     "data": {
      "text/plain": [
       "tensor(1.2875, grad_fn=<DivBackward0>)"
      ]
     },
     "metadata": {},
     "execution_count": 18
    }
   ],
   "metadata": {}
  },
  {
   "cell_type": "code",
   "execution_count": 17,
   "source": [
    "model.neural_net(t,train).shape\n"
   ],
   "outputs": [
    {
     "output_type": "execute_result",
     "data": {
      "text/plain": [
       "torch.Size([800, 40, 2])"
      ]
     },
     "metadata": {},
     "execution_count": 17
    }
   ],
   "metadata": {}
  },
  {
   "cell_type": "code",
   "execution_count": 37,
   "source": [
    "(torch.linalg.norm(model.neural_net(t,train),dim=2)**2)"
   ],
   "outputs": [
    {
     "output_type": "execute_result",
     "data": {
      "text/plain": [
       "tensor([[0.5159, 0.4296, 0.3816,  ..., 0.0960, 0.0848, 0.0775],\n",
       "        [0.4882, 0.4216, 0.3773,  ..., 0.0937, 0.0837, 0.0668],\n",
       "        [0.2910, 0.3064, 0.3019,  ..., 0.0450, 0.0509, 0.0541],\n",
       "        ...,\n",
       "        [0.4928, 0.4667, 0.4487,  ..., 0.1099, 0.0947, 0.0763],\n",
       "        [0.4586, 0.4030, 0.3366,  ..., 0.0684, 0.0681, 0.0602],\n",
       "        [0.2888, 0.2494, 0.2221,  ..., 0.0538, 0.0346, 0.0415]],\n",
       "       grad_fn=<CopyBackwards>)"
      ]
     },
     "metadata": {},
     "execution_count": 37
    }
   ],
   "metadata": {}
  },
  {
   "cell_type": "code",
   "execution_count": null,
   "source": [],
   "outputs": [],
   "metadata": {}
  }
 ],
 "metadata": {
  "orig_nbformat": 4,
  "language_info": {
   "name": "python",
   "version": "3.6.13",
   "mimetype": "text/x-python",
   "codemirror_mode": {
    "name": "ipython",
    "version": 3
   },
   "pygments_lexer": "ipython3",
   "nbconvert_exporter": "python",
   "file_extension": ".py"
  },
  "kernelspec": {
   "name": "python3",
   "display_name": "Python 3.6.13 64-bit ('aph': conda)"
  },
  "interpreter": {
   "hash": "7b1da09e84a3b6b0b8f0a937c1fc8ae9785ae00d1b392cd178c6aa57bdf7b179"
  }
 },
 "nbformat": 4,
 "nbformat_minor": 2
}